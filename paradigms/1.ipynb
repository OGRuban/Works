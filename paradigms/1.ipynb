{
 "cells": [
  {
   "cell_type": "markdown",
   "metadata": {},
   "source": [
    "# 4 Парадигми програмування на ООП\n",
    "- Інкапсуляція\n",
    "- Наслідування\n",
    "- Абстракція\n",
    "- Поліморфізм"
   ]
  },
  {
   "cell_type": "markdown",
   "metadata": {},
   "source": [
    "### Інкапсуляція\n",
    "- Приховування даних всередині обєкту"
   ]
  },
  {
   "cell_type": "code",
   "execution_count": 1,
   "metadata": {},
   "outputs": [
    {
     "data": {
      "text/plain": [
       "'Атака меча Ескалібур: 100 одиниць'"
      ]
     },
     "execution_count": 1,
     "metadata": {},
     "output_type": "execute_result"
    }
   ],
   "source": [
    "class Sword():\n",
    "    def __init__(self, name:str, attack_power:int):\n",
    "        self.name = name\n",
    "        self.__attack_power = attack_power # приватний атрибут який реалізує інкапсуляцію\n",
    "\n",
    "    @property\n",
    "    def get_attack_power(self):\n",
    "        return f\"Атака меча {self.name}: {self.__attack_power} одиниць\"\n",
    "    \n",
    "S = Sword(\"Ескалібур\", 100)\n",
    "\n",
    "S.get_attack_power"
   ]
  },
  {
   "cell_type": "markdown",
   "metadata": {},
   "source": [
    "### Наслідування\n",
    "- Ієрархія класів, і кожен клас реалізує базовий функціонал для своєї роботи а калси які наслідують базовий функціонал - розширюють роботу класу"
   ]
  },
  {
   "cell_type": "code",
   "execution_count": 2,
   "metadata": {},
   "outputs": [
    {
     "data": {
      "text/plain": [
       "'Атака меча Ескалібур: 101 одиниць'"
      ]
     },
     "execution_count": 2,
     "metadata": {},
     "output_type": "execute_result"
    }
   ],
   "source": [
    "class Item:\n",
    "    def __init__(self, name:str):\n",
    "        self.name = name\n",
    "\n",
    "class Sword(Item): # Це наслідування\n",
    "    def __init__(self, name, attack_power:int):\n",
    "        super().__init__(name=name) #  Це виклик конструктора наслідуваного класу\n",
    "        self.__attack_power = attack_power # приватний атрибут який реалізує інкапсуляцію\n",
    "        self._sharp = 0\n",
    "\n",
    "    @property\n",
    "    def get_attack_power(self):\n",
    "        return f\"Атака меча {self.name}: {self.__attack_power + self._sharp} одиниць\"\n",
    "    \n",
    "    def sharpening(self):\n",
    "        self._sharp += 1\n",
    "\n",
    "S = Sword(\"Ескалібур\", 100)\n",
    "\n",
    "S.get_attack_power\n",
    "S.sharpening()\n",
    "S.get_attack_power"
   ]
  },
  {
   "cell_type": "markdown",
   "metadata": {},
   "source": [
    "### Абстракція\n",
    "- Існування певного методу без визначення деталей його реалізації\n",
    "- Ми не можемо уникнути реалізації цього методу у наслідуваних класах\n",
    "### Поліморфізм\n",
    "- Первизначення роботи метода без зміни його назви\n",
    "- Метод atack реалізований по різному у класах Меча та Сокири"
   ]
  },
  {
   "cell_type": "code",
   "execution_count": 3,
   "metadata": {},
   "outputs": [
    {
     "name": "stdout",
     "output_type": "stream",
     "text": [
      "Хід 0\n",
      "Завдаємо удару мечем Ескалібур та наносимо 109 шкоди. У Кратос залишалось здоровя: 391\n",
      "Завдаємо удару сокирою Кратос та наносимо 103 шкоди. У Ескалібур залишалось здоровя: 397\n",
      "Хід 1\n",
      "Завдаємо удару мечем Ескалібур та наносимо 107 шкоди. У Кратос залишалось здоровя: 284\n",
      "Завдаємо удару сокирою Кратос та наносимо 96 шкоди. У Ескалібур залишалось здоровя: 301\n",
      "Хід 2\n",
      "Завдаємо удару мечем Ескалібур та наносимо 108 шкоди. У Кратос залишалось здоровя: 176\n",
      "Завдаємо удару сокирою Кратос та наносимо 113 шкоди. У Ескалібур залишалось здоровя: 188\n",
      "Хід 3\n",
      "Завдаємо удару мечем Ескалібур та наносимо 107 шкоди. У Кратос залишалось здоровя: 69\n",
      "Завдаємо удару сокирою Кратос та наносимо 102 шкоди. У Ескалібур залишалось здоровя: 86\n",
      "Хід 4\n",
      "Завдаємо удару мечем Ескалібур та наносимо 113 шкоди. У Кратос залишалось здоровя: -44\n",
      "Завдаємо удару сокирою Кратос та наносимо 95 шкоди. У Ескалібур залишалось здоровя: -9\n",
      "Перемога за Ескалібур\n"
     ]
    }
   ],
   "source": [
    "from abc import ABC, abstractmethod\n",
    "from random import randint\n",
    "\n",
    "class Item(ABC):\n",
    "    def __init__(self, name:str, health = 500):\n",
    "        self.name = name\n",
    "        self.health = health\n",
    "    \n",
    "    @abstractmethod\n",
    "    def attack(self):\n",
    "        pass\n",
    "\n",
    "class Sword(Item): # Це наслідування\n",
    "    def __init__(self, name, attack_power:int):\n",
    "        super().__init__(name=name) #  Це виклик конструктора наслідуваного класу\n",
    "        self.__attack_power = attack_power # приватний атрибут який реалізує інкапсуляцію\n",
    "        self._sharp = 0\n",
    "    \n",
    "    def attack(self, another_item:Item): # ми не можемо створити клас без цього методу\n",
    "        current_attack = self.__attack_power + self._sharp + randint(0, 10)\n",
    "        another_item.health -= current_attack\n",
    "        return f\"Завдаємо удару мечем {self.name} та наносимо {current_attack} шкоди. У {another_item.name} залишалось здоровя: {another_item.health}\"\n",
    "    \n",
    "    @property\n",
    "    def get_attack_power(self):\n",
    "        return f\"Атака меча {self.name}: {self.__attack_power + self._sharp} одиниць\"\n",
    "    \n",
    "    def sharpening(self):\n",
    "        self._sharp += 1\n",
    "\n",
    "class Axe(Item): # Це наслідування\n",
    "    def __init__(self, name, attack_power:int):\n",
    "        super().__init__(name=name) #  Це виклик конструктора наслідуваного класу\n",
    "        self.__attack_power = attack_power # приватний атрибут який реалізує інкапсуляцію\n",
    "        self._sharp = 0\n",
    "    \n",
    "    def attack(self, another_item:Item):  # ми не можемо створити клас без цього методу\n",
    "        current_attack = self.__attack_power + randint(0, 20)\n",
    "        another_item.health -= current_attack\n",
    "        return f\"Завдаємо удару сокирою {self.name} та наносимо {current_attack} шкоди. У {another_item.name} залишалось здоровя: {another_item.health}\"\n",
    "\n",
    "    @property\n",
    "    def get_attack_power(self):\n",
    "        return f\"Атака сокири {self.name}: {self.__attack_power + self._sharp} одиниць\"\n",
    "\n",
    "S = Sword(\"Ескалібур\", 100)\n",
    "A = Axe(\"Кратос\", 95)\n",
    "\n",
    "for i in range(10):\n",
    "    print(f\"Хід {i}\")\n",
    "\n",
    "    S.sharpening()\n",
    "    print(S.attack(A))\n",
    "    if S.health <= 0:\n",
    "        print(f\"Перемога за {A.name}\")\n",
    "        break\n",
    "\n",
    "    print(A.attack(S))\n",
    "    if A.health <= 0:\n",
    "        print(f\"Перемога за {S.name}\")\n",
    "        break"
   ]
  }
 ],
 "metadata": {
  "kernelspec": {
   "display_name": "Python 3",
   "language": "python",
   "name": "python3"
  },
  "language_info": {
   "codemirror_mode": {
    "name": "ipython",
    "version": 3
   },
   "file_extension": ".py",
   "mimetype": "text/x-python",
   "name": "python",
   "nbconvert_exporter": "python",
   "pygments_lexer": "ipython3",
   "version": "3.12.6"
  }
 },
 "nbformat": 4,
 "nbformat_minor": 2
}
