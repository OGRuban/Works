{
 "cells": [
  {
   "cell_type": "markdown",
   "metadata": {},
   "source": [
    "### Знайомство з ООП\n",
    "- потрібно 2 Пайтон файли, Пайтон ноутбук де будемо працювати з кодом та простий файл Пайтон де буде наш Клас\n",
    "- через те що Юпітер кешує імпорти, після зміни в нашому модулі ми повинні кожного разу перезавантажувати наш модуть, тобто виконувати комірку знизу"
   ]
  },
  {
   "cell_type": "code",
   "execution_count": 1,
   "metadata": {},
   "outputs": [
    {
     "data": {
      "text/plain": [
       "<module 'my_class' from 'c:\\\\Users\\\\User\\\\Desktop\\\\gbhi\\\\Works-3\\\\3_lab\\\\my_class.py'>"
      ]
     },
     "execution_count": 1,
     "metadata": {},
     "output_type": "execute_result"
    }
   ],
   "source": [
    "import importlib\n",
    "import my_class\n",
    "\n",
    "importlib.reload(my_class)"
   ]
  }
 ],
 "metadata": {
  "kernelspec": {
   "display_name": "Python 3",
   "language": "python",
   "name": "python3"
  },
  "language_info": {
   "codemirror_mode": {
    "name": "ipython",
    "version": 3
   },
   "file_extension": ".py",
   "mimetype": "text/x-python",
   "name": "python",
   "nbconvert_exporter": "python",
   "pygments_lexer": "ipython3",
   "version": "3.12.5"
  }
 },
 "nbformat": 4,
 "nbformat_minor": 2
}
