{
 "cells": [
  {
   "cell_type": "markdown",
   "metadata": {},
   "source": [
    "### Знайомство з ООП\n",
    "- потрібно 2 Пайтон файли, Пайтон ноутбук де будемо працювати з кодом та простий файл Пайтон де буде наш Клас\n",
    "- через те що Юпітер кешує імпорти, після зміни в нашому модулі ми повинні кожного разу перезавантажувати наш модуть, тобто виконувати комірку знизу"
   ]
  },
  {
   "cell_type": "code",
   "execution_count": 1,
   "metadata": {},
   "outputs": [
    {
     "data": {
      "text/plain": [
       "<module 'my_class' from 'd:\\\\Program shit\\\\VSC WORK PAPKA\\\\Works-5\\\\3_lab\\\\my_class.py'>"
      ]
     },
     "execution_count": 1,
     "metadata": {},
     "output_type": "execute_result"
    }
   ],
   "source": [
    "import importlib\n",
    "import my_class\n",
    "\n",
    "importlib.reload(my_class)"
   ]
  },
  {
   "cell_type": "code",
   "execution_count": 2,
   "metadata": {},
   "outputs": [
    {
     "name": "stdout",
     "output_type": "stream",
     "text": [
      "<class 'my_class.MySuperClass'>\n",
      "Help on class MySuperClass in module my_class:\n",
      "\n",
      "class MySuperClass(builtins.object)\n",
      " |  MySuperClass(surname: str, name, mark: int, group=None)\n",
      " |\n",
      " |  Тестовий клас, зараз реалізуємо опис студента\n",
      " |\n",
      " |  ---\n",
      " |\n",
      " |  surname : str\n",
      " |      Прізвище студента\n",
      " |\n",
      " |  Methods defined here:\n",
      " |\n",
      " |  __del__(self)\n",
      " |\n",
      " |  __init__(self, surname: str, name, mark: int, group=None)\n",
      " |      Ініціалізуємо обєкт\n",
      " |      - в середині конструктора створюються атрибути\n",
      " |\n",
      " |  __len__(self)\n",
      " |\n",
      " |  __repr__(self)\n",
      " |      Return repr(self).\n",
      " |\n",
      " |  calculate_scholarship_after_session(self, raiting: int)\n",
      " |\n",
      " |  fucntion_in_class(self)\n",
      " |      Це вже метод згідно термінології, і він публічний\n",
      " |\n",
      " |  panishment(self)\n",
      " |\n",
      " |  ----------------------------------------------------------------------\n",
      " |  Class methods defined here:\n",
      " |\n",
      " |  create_from_name_surname(full_name: str)\n",
      " |      альтернативний конструктор, створюємо обєкт з повного імені\n",
      " |      розчеплюємо повне імя на частинки Прізкище та Імя\n",
      " |\n",
      " |  create_from_surname_name(full_name: str)\n",
      " |      альтернативний конструктор, створюємо обєкт з повного імені\n",
      " |      розчеплюємо повне імя на частинки Прізкище та Імя\n",
      " |\n",
      " |  ----------------------------------------------------------------------\n",
      " |  Static methods defined here:\n",
      " |\n",
      " |  hobbi(h=None)\n",
      " |      в таких методах нема вказівника на обєкт\n",
      " |\n",
      " |  ----------------------------------------------------------------------\n",
      " |  Readonly properties defined here:\n",
      " |\n",
      " |  college_raiting\n",
      " |\n",
      " |  name\n",
      " |      Ця властивість є закритою, її можна читати але не можна змінювати\n",
      " |\n",
      " |  say_hello\n",
      " |\n",
      " |  surname\n",
      " |\n",
      " |  ----------------------------------------------------------------------\n",
      " |  Data descriptors defined here:\n",
      " |\n",
      " |  __dict__\n",
      " |      dictionary for instance variables\n",
      " |\n",
      " |  __weakref__\n",
      " |      list of weak references to the object\n",
      " |\n",
      " |  ----------------------------------------------------------------------\n",
      " |  Data and other attributes defined here:\n",
      " |\n",
      " |  COLLEGE_NAME = 'Це подібне до константи в клосі, але ми можемо її пере...\n",
      " |\n",
      " |  total_marks = 0\n",
      " |\n",
      " |  total_students = 0\n",
      " |\n",
      " |  var_lover_case = 'Це проста класова змінна'\n",
      "\n"
     ]
    }
   ],
   "source": [
    "from my_class import MySuperClass, function_in_module\n",
    "\n",
    "print(MySuperClass)\n",
    "help(MySuperClass)"
   ]
  },
  {
   "cell_type": "code",
   "execution_count": 3,
   "metadata": {},
   "outputs": [
    {
     "name": "stdout",
     "output_type": "stream",
     "text": [
      "['Студент VB B отримав оцінку 4', 'Студент FB B отримав оцінку 5', 'Студент DS S отримав оцінку 3', 'Студент TY D отримав оцінку 4']\n"
     ]
    }
   ],
   "source": [
    "name = [\"B\", \"B\", \"S\", \"D\"]\n",
    "surname = [\"VB\", \"FB\", \"DS\", \"TY\"]\n",
    "mark = [4, 5, 3, 4]\n",
    "\n",
    "print([f\"Студент {surname[i]} {name[i]} отримав оцінку {mark[i]}\" for i in range(len(name))])"
   ]
  },
  {
   "cell_type": "code",
   "execution_count": 4,
   "metadata": {},
   "outputs": [
    {
     "name": "stdout",
     "output_type": "stream",
     "text": [
      "Студент B VB отримав оцінку 4\n",
      "Студент B FB отримав оцінку 5\n",
      "Студент S DS отримав оцінку 3\n",
      "Студент D TY отримав оцінку 4\n"
     ]
    }
   ],
   "source": [
    "d = {\n",
    "    \"Прізвище\": [\"B\", \"B\", \"S\", \"D\"],\n",
    "    \"Імя\": [\"VB\", \"FB\", \"DS\", \"TY\"],\n",
    "    \"Оцінка\": [4, 5, 3, 4]\n",
    "}\n",
    "\n",
    "for i in range(len(d[\"Прізвище\"])):\n",
    "    print(f\"Студент {d[\"Прізвище\"][i]} {d[\"Імя\"][i]} отримав оцінку {d[\"Оцінка\"][i]}\")"
   ]
  },
  {
   "cell_type": "markdown",
   "metadata": {},
   "source": [
    "- в класі є особлива змінна self яка є вказівником на об'єкт"
   ]
  },
  {
   "cell_type": "code",
   "execution_count": 5,
   "metadata": {},
   "outputs": [
    {
     "name": "stdout",
     "output_type": "stream",
     "text": [
      "Викликаємо __init__\n",
      "Викликаємо __init__\n",
      "Викликаємо __init__\n",
      "Викликаємо __init__\n",
      "Студент B VB отримав оцінку 4\n",
      "Студент B FB отримав оцінку 5\n",
      "Студент S DS отримав оцінку 3\n",
      "Студент D TY отримав оцінку 4\n"
     ]
    }
   ],
   "source": [
    "from my_class import MySuperClass\n",
    "c = [MySuperClass(\"B\", \"VB\", 4),\n",
    "     MySuperClass(\"B\", \"FB\", 5),\n",
    "     MySuperClass(\"S\", \"DS\", 3),\n",
    "     MySuperClass(\"D\", \"TY\", 4)\n",
    "     ]\n",
    "\n",
    "for student in c:\n",
    "    print(f\"Студент {student.surname} {student.name} отримав оцінку {student.mark}\")\n"
   ]
  },
  {
   "cell_type": "markdown",
   "metadata": {},
   "source": [
    "### Термінологія\n",
    "- `__init__` - аналог конструктора, це є перший метод який викликається при створення обєкта\n",
    "- `__repr__` - стрічкове представлення нашого обєкту\n",
    "- docstring - опис класу, що він робити та як ним користуватись\n",
    "- всі методи як мають подвійне підкреслення називаються Магічними\n",
    "- будь-що що передається на вхід функції або нашого коструктора називається аргументом, наприклад surname це аршументом\n",
    "- коли інфціалізується обєкт то йому присвоюються атрибути"
   ]
  },
  {
   "cell_type": "code",
   "execution_count": 6,
   "metadata": {},
   "outputs": [],
   "source": [
    "x = 7  \n",
    "y = 3.14  \n",
    "name = \"Orest\"  "
   ]
  },
  {
   "cell_type": "code",
   "execution_count": 7,
   "metadata": {},
   "outputs": [
    {
     "name": "stdout",
     "output_type": "stream",
     "text": [
      "Hello, Orest!\n"
     ]
    }
   ],
   "source": [
    "def greet(name):\n",
    "    return f\"Hello, {name}!\"\n",
    "\n",
    "print(greet(\"Orest\"))  "
   ]
  },
  {
   "cell_type": "code",
   "execution_count": 8,
   "metadata": {},
   "outputs": [
    {
     "name": "stdout",
     "output_type": "stream",
     "text": [
      "Buddy says woof!\n"
     ]
    }
   ],
   "source": [
    "class Dog:\n",
    "    def __init__(self, name):\n",
    "        self.name = name\n",
    "    \n",
    "    def bark(self):\n",
    "        return f\"{self.name} says woof!\"\n",
    "\n",
    "my_dog = Dog(\"Buddy\")\n",
    "print(my_dog.bark())  \n"
   ]
  },
  {
   "cell_type": "markdown",
   "metadata": {},
   "source": [
    "### Принципи роботи атрибутів та властивостей\n",
    "- хоча ми можемо задавати типи аргументів які пердаються в конструктор, нічого не буде якщо ми їх не дотримаємось\n",
    "- при створенні обєкта всі методи та атриути які були в класі також будуть в обєкт\n",
    "- але ми можемо створювати динамічні атрибути, які будуть властиві лише для конкретного обєкта\n",
    "- коли створюються динамічні атрибути вони порушують механіку класу, найчастіше тому задають наперед визначені атрибути\n",
    "- Значення атрибутів можна змінювати/модифікувати під час роботи з ними\n",
    "- але існують так звані Властивості - це тіж самі поля з інформацією про обєкт але їх не можна модифікувати\n",
    "- якщо ми хочемо щоб якісь дані були незмінними то ми створюємо властивості а в середині конструктора передбачаємо приватні атрибути\n",
    "- до паблік та пзахищених атрибутів можна доступитись і змінити їх, але ніяк до приватних"
   ]
  },
  {
   "cell_type": "code",
   "execution_count": 9,
   "metadata": {},
   "outputs": [
    {
     "name": "stdout",
     "output_type": "stream",
     "text": [
      "Викликаємо __init__\n",
      "В обєкта будуть наступні атрибути: {'_MySuperClass__surname': 1, '_MySuperClass__name': 'Один', 'mark': 1, 'group': None, '_age': None, '_scholarship': 0, 'var_lover_case': 'Перазаписали класові змінну'}\n",
      "Викликаємо __init__\n",
      "{'_MySuperClass__surname': 1, '_MySuperClass__name': 'Один', 'mark': 1, 'group': 'TK-41', '_age': None, '_scholarship': 0, 'var_lover_case': 'Перазаписали класові змінну'} але базові атрибути будуть доступними для {'_MySuperClass__surname': 2, '_MySuperClass__name': 'Два', 'mark': 2, 'group': None, '_age': None, '_scholarship': 0, 'var_lover_case': 'Перазаписали класові змінну'}\n",
      "Викликаємо __init__\n",
      "В цьоьму обєкті ми явно задали всі атрибути {'_MySuperClass__surname': 3, '_MySuperClass__name': 'Три', 'mark': 3, 'group': 'TK-42', '_age': None, '_scholarship': 0, 'var_lover_case': 'Перазаписали класові змінну'}\n"
     ]
    }
   ],
   "source": [
    "from my_class import MySuperClass\n",
    "\n",
    "s1 = MySuperClass(1, \"Один\", 1)\n",
    "\n",
    "print(f\"В обєкта будуть наступні атрибути: {s1.__dict__}\")\n",
    "s1.group = \"TK-41\"\n",
    "\n",
    "s2 = MySuperClass(2, \"Два\", 2)\n",
    "print(f\"{s1.__dict__} але базові атрибути будуть доступними для {s2.__dict__}\")\n",
    "\n",
    "s3 = MySuperClass(3, \"Три\", 3, \"TK-42\")\n",
    "print(f\"В цьоьму обєкті ми явно задали всі атрибути {s3.__dict__}\")"
   ]
  },
  {
   "cell_type": "code",
   "execution_count": 10,
   "metadata": {},
   "outputs": [
    {
     "name": "stdout",
     "output_type": "stream",
     "text": [
      "Один\n",
      "1\n",
      "None\n",
      "10\n"
     ]
    }
   ],
   "source": [
    "print(s1.name)\n",
    "#s1.name = \"Три\"\n",
    "\n",
    "print(s1.surname)\n",
    "\n",
    "print(s1._age)\n",
    "s1._age = 10\n",
    "print(s1._age)\n",
    "\n",
    "# s1.__surname  # хоча ВіжуалСтудіо підкидує автокомплішн, це буде помилка"
   ]
  },
  {
   "cell_type": "markdown",
   "metadata": {},
   "source": [
    "### Методи класу\n",
    "- методи це ті самі функії однак визначені всередині класу\n",
    "- методи реалізують певні дії над обєктом або дії самого обєкту\n",
    "- так само як з атрибутами, є публічні, захищені та приватні методи"
   ]
  },
  {
   "cell_type": "code",
   "execution_count": 11,
   "metadata": {},
   "outputs": [],
   "source": [
    "class car:\n",
    "    def __init__(self, модель, паливо):\n",
    "        self.модель = модель\n",
    "        self.паливо = паливо\n",
    "        self.швидкість = 0\n",
    "\n",
    "    def рухатися(self, швидкість):\n",
    "        if self.паливо > 0:\n",
    "            self.швидкість = швидкість\n",
    "            print(f\"{self.модель} рухається зі швидкістю {швидкість} км/год.\")\n",
    "            self.паливо -= швидкість * 0.1  # Споживання пального\n",
    "        else:\n",
    "            print(f\"{self.модель} немає пального!\")\n",
    "\n",
    "    def заправити(self, кількість):\n",
    "        self.паливо += кількість\n",
    "        print(f\"{self.модель} заправлено на {кількість} літрів. Тепер пального: {self.паливо} літрів.\")"
   ]
  },
  {
   "cell_type": "code",
   "execution_count": 12,
   "metadata": {},
   "outputs": [
    {
     "name": "stdout",
     "output_type": "stream",
     "text": [
      "Toyota рухається зі швидкістю 70 км/год.\n",
      "Toyota заправлено на 10 літрів. Тепер пального: 33.0 літрів.\n"
     ]
    }
   ],
   "source": [
    "машина = car(\"Toyota\", 30)\n",
    "машина.рухатися(70) \n",
    "машина.заправити(10)"
   ]
  },
  {
   "cell_type": "markdown",
   "metadata": {},
   "source": [
    "### Класи та їх змінні"
   ]
  },
  {
   "cell_type": "code",
   "execution_count": 13,
   "metadata": {},
   "outputs": [
    {
     "name": "stdout",
     "output_type": "stream",
     "text": [
      "Toyota рухається зі швидкістю 70 км/год. Спожито 7.0 літрів пального.\n",
      "Toyota заправлено на 10 літрів. Тепер пального: 33.0 літрів.\n",
      "Toyota рухається зі швидкістю 100 км/год. Спожито 10.0 літрів пального.\n"
     ]
    }
   ],
   "source": [
    "class Car:\n",
    "    # Класова змінна для максимального споживання пального на одиницю швидкості\n",
    "    max_fuel_consumption = 0.1  # Споживання пального на кожні 10 км/год швидкості\n",
    "\n",
    "    def __init__(self, модель, паливо):\n",
    "        self.модель = модель  # Інстанціальна змінна для моделі автомобіля\n",
    "        self.паливо = паливо  # Інстанціальна змінна для кількості пального\n",
    "        self.швидкість = 0  # Початкова швидкість автомобіля\n",
    "\n",
    "    def рухатися(self, швидкість):\n",
    "        if self.паливо > 0:\n",
    "            self.швидкість = швидкість\n",
    "            # Обчислюємо споживання пального\n",
    "            fuel_needed = швидкість * Car.max_fuel_consumption\n",
    "            if self.паливо >= fuel_needed:\n",
    "                self.паливо -= fuel_needed\n",
    "                print(f\"{self.модель} рухається зі швидкістю {швидкість} км/год. Спожито {fuel_needed} літрів пального.\")\n",
    "            else:\n",
    "                print(f\"{self.модель} не вистачає пального для руху на такій швидкості!\")\n",
    "                self.швидкість = 0  # Зупинка автомобіля, якщо пального недостатньо\n",
    "        else:\n",
    "            print(f\"{self.модель} немає пального!\")\n",
    "\n",
    "    def заправити(self, кількість):\n",
    "        self.паливо += кількість\n",
    "        print(f\"{self.модель} заправлено на {кількість} літрів. Тепер пального: {self.паливо} літрів.\")\n",
    "\n",
    "# Створення об'єкта автомобіля\n",
    "машина = Car(\"Toyota\", 30)\n",
    "\n",
    "# Використання методів\n",
    "машина.рухатися(70)  # Рух на швидкості 70 км/год\n",
    "машина.заправити(10)  # Заправка на 10 літрів\n",
    "машина.рухатися(100)  # Рух на швидкості 100 км/год\n"
   ]
  },
  {
   "cell_type": "markdown",
   "metadata": {},
   "source": [
    "### Вказівник на обєкт та статичні методи"
   ]
  },
  {
   "cell_type": "code",
   "execution_count": 14,
   "metadata": {},
   "outputs": [
    {
     "name": "stdout",
     "output_type": "stream",
     "text": [
      "Викликаємо __init__\n",
      "В мене зявилось хоббі Футболл\n",
      "На жаль в мене немає Хаббі\n",
      "В мене зявилось хоббі швидка їзда\n"
     ]
    }
   ],
   "source": [
    "from my_class import MySuperClass\n",
    "\n",
    "a = MySuperClass(1, \"Один\", 1)\n",
    "# тут ми неявно вказуємо обєкт і передаємо його у метод\n",
    "a.fucntion_in_class()\n",
    "\n",
    "# викликаємо метод з класу і явно вказуємо на обєкт\n",
    "b = MySuperClass.fucntion_in_class(a)\n",
    "\n",
    "# у статичних методів немає вказівника на обєкт, але ми його може викликати з обєкту\n",
    "a.hobbi(\"Футболл\")\n",
    "\n",
    "# також ми викликаємо статичний метод з класу без вказування обєкту\n",
    "MySuperClass.hobbi()\n",
    "MySuperClass.hobbi(\"швидка їзда\")"
   ]
  },
  {
   "cell_type": "markdown",
   "metadata": {},
   "source": [
    "### Альтернативні конструктори"
   ]
  },
  {
   "cell_type": "code",
   "execution_count": 15,
   "metadata": {},
   "outputs": [
    {
     "name": "stdout",
     "output_type": "stream",
     "text": [
      "Викликаємо __init__\n",
      "Викликаємо __init__\n",
      "Викликаємо __init__\n",
      "Smith Smith Smith\n"
     ]
    }
   ],
   "source": [
    "from my_class import MySuperClass\n",
    "\n",
    "js = MySuperClass(\"Smith\", \"Jhon\", 0)\n",
    "\n",
    "f_js = MySuperClass.create_from_name_surname(\"Jhon Smith\")\n",
    "\n",
    "r_js = MySuperClass.create_from_surname_name(\"Smith Jhon\")\n",
    "print(js.surname, f_js.surname, r_js.surname)"
   ]
  },
  {
   "cell_type": "code",
   "execution_count": 16,
   "metadata": {},
   "outputs": [
    {
     "name": "stdout",
     "output_type": "stream",
     "text": [
      "Orest, 19 years old\n",
      "Yarema, 18 years old\n"
     ]
    }
   ],
   "source": [
    "class Person:\n",
    "    def __init__(self, name, age):\n",
    "        self.name = name\n",
    "        self.age = age\n",
    "\n",
    "    # Альтернативний конструктор\n",
    "    @classmethod\n",
    "    def from_string(cls, data_str):\n",
    "        name, age = data_str.split(',')\n",
    "        return cls(name, int(age))\n",
    "\n",
    "    def __str__(self):\n",
    "        return f\"{self.name}, {self.age} years old\"\n",
    "\n",
    "# Використання стандартного конструктора\n",
    "person1 = Person(\"Orest\", 19)\n",
    "print(person1)\n",
    "\n",
    "# Використання альтернативного конструктора\n",
    "person2 = Person.from_string(\"Yarema, 18\")\n",
    "print(person2)\n"
   ]
  },
  {
   "cell_type": "code",
   "execution_count": 17,
   "metadata": {},
   "outputs": [
    {
     "name": "stdout",
     "output_type": "stream",
     "text": [
      "Event: Bday, Date: 18-10-2025\n"
     ]
    }
   ],
   "source": [
    "from datetime import datetime\n",
    "\n",
    "class Event:\n",
    "    def __init__(self, name, date):\n",
    "        self.name = name\n",
    "        self.date = date\n",
    "\n",
    "    # Альтернативний конструктор для створення об'єкта з рядка дати\n",
    "    @classmethod\n",
    "    def from_date_string(cls, name, date_str):\n",
    "        date = datetime.strptime(date_str, '%d-%m-%Y')\n",
    "        return cls(name, date)\n",
    "\n",
    "    def __str__(self):\n",
    "        return f\"Event: {self.name}, Date: {self.date.strftime('%d-%m-%Y')}\"\n",
    "\n",
    "# Використання альтернативного конструктора\n",
    "event = Event.from_date_string(\"Bday\", \"18-10-2025\")\n",
    "print(event)\n",
    "\n"
   ]
  }
 ],
 "metadata": {
  "kernelspec": {
   "display_name": "Python 3",
   "language": "python",
   "name": "python3"
  },
  "language_info": {
   "codemirror_mode": {
    "name": "ipython",
    "version": 3
   },
   "file_extension": ".py",
   "mimetype": "text/x-python",
   "name": "python",
   "nbconvert_exporter": "python",
   "pygments_lexer": "ipython3",
   "version": "3.12.6"
  }
 },
 "nbformat": 4,
 "nbformat_minor": 2
}
