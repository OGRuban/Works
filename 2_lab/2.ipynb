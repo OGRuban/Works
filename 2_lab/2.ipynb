{
 "cells": [
  {
   "cell_type": "markdown",
   "metadata": {},
   "source": [
    "### Типи змінних\n",
    "#### Стічкові змінні\n",
    "- змінна це просто імя (буква або набір букв або цифр) яке містить значення\n",
    "- власне значення це стрічка яка є у ' ', \" \""
   ]
  },
  {
   "cell_type": "code",
   "execution_count": 1,
   "metadata": {},
   "outputs": [],
   "source": [
    "a = \"орест\"\n",
    "b2 = \"18 років\"\n",
    "c_3 = \"м. Львів\"\n",
    "d_ = \"https://github.com/OGRuban\""
   ]
  },
  {
   "cell_type": "code",
   "execution_count": 2,
   "metadata": {},
   "outputs": [
    {
     "name": "stdout",
     "output_type": "stream",
     "text": [
      "орест 18 років м. Львів https://github.com/OGRuban\n"
     ]
    }
   ],
   "source": [
    "print(a, b2, c_3, d_)"
   ]
  },
  {
   "cell_type": "code",
   "execution_count": 3,
   "metadata": {},
   "outputs": [],
   "source": [
    "del d_"
   ]
  },
  {
   "cell_type": "code",
   "execution_count": 4,
   "metadata": {},
   "outputs": [
    {
     "name": "stdout",
     "output_type": "stream",
     "text": [
      "Орест 18 років м. Львів\n"
     ]
    }
   ],
   "source": [
    "print((a.capitalize()), b2, c_3)"
   ]
  },
  {
   "cell_type": "markdown",
   "metadata": {},
   "source": [
    "### Колекції - комплексні типи даних\n",
    "- list - це просто набір різних типів даних, все зібрано докупи\n",
    "- впорядкована колекція - тобто кожен елемент має свою позицію (індекси)\n",
    "- номерація або індекси починаються з 0\n",
    "- у Пайтон також є відємні індекси\n",
    "- списки можуть бути змінними"
   ]
  },
  {
   "cell_type": "code",
   "execution_count": 5,
   "metadata": {},
   "outputs": [],
   "source": [
    "students = [\n",
    "    {'name': 'Orest', 'age': 18, 'major': 'Computer Science'},\n",
    "    {'name': 'Bob', 'age': 22, 'major': 'Mathematics'},\n",
    "    {'name': 'Tommy', 'age': 21, 'major': 'Physics'}\n",
    "]"
   ]
  },
  {
   "cell_type": "markdown",
   "metadata": {},
   "source": [
    "- dict або словники\n",
    "- в словниках всі дані знаходяться на іменних позиціях\n",
    "- особливість словника що ключі або назви позицій мають бути унікальними\n",
    "- словники є mutable - тобто можна змінювати"
   ]
  },
  {
   "cell_type": "code",
   "execution_count": 6,
   "metadata": {},
   "outputs": [],
   "source": [
    "courses = {\n",
    "    'Computer Science': ['Orest', 'Bob'],\n",
    "    'Mathematics': ['Bob', 'Charlie'],\n",
    "    'Physics': ['Orest', 'Charlie']\n",
    "}"
   ]
  },
  {
   "cell_type": "markdown",
   "metadata": {},
   "source": [
    "- tuple - це незмінна колекція після її створення\n",
    "- впорядкована, кожен елемент на своєму місці та початок з 0"
   ]
  },
  {
   "cell_type": "code",
   "execution_count": 7,
   "metadata": {},
   "outputs": [],
   "source": [
    "student_info = ('Orest', 18, ['coding', 'reading', 'hiking'])"
   ]
  },
  {
   "cell_type": "markdown",
   "metadata": {},
   "source": [
    "- set - колекція унікальних елементів\n",
    "- невпорядкована колекція, тобто немає індексів (просто куча даних)"
   ]
  },
  {
   "cell_type": "code",
   "execution_count": 8,
   "metadata": {},
   "outputs": [],
   "source": [
    "hobbies = {'coding', 'reading', 'hiking', 'sports', 'music'}"
   ]
  },
  {
   "cell_type": "code",
   "execution_count": 9,
   "metadata": {},
   "outputs": [
    {
     "name": "stdout",
     "output_type": "stream",
     "text": [
      "Студент: Orest, Вік: 18, Спеціальність: Computer Science\n",
      "Студент: Bob, Вік: 22, Спеціальність: Mathematics\n",
      "Студент: Tommy, Вік: 21, Спеціальність: Physics\n",
      "Курс: Computer Science, Студенти: Orest, Bob\n",
      "Курс: Mathematics, Студенти: Bob, Charlie\n",
      "Курс: Physics, Студенти: Orest, Charlie\n",
      "Orest має 18 років і захоплюється: coding, reading, hiking\n",
      "Унікальні захоплення: hiking, music, coding, reading, sports\n"
     ]
    }
   ],
   "source": [
    "# Виведемо інформацію про студентів\n",
    "for student in students:\n",
    "    print(f\"Студент: {student['name']}, Вік: {student['age']}, Спеціальність: {student['major']}\")\n",
    "\n",
    "# Виведемо курси та студентів\n",
    "for course, enrolled_students in courses.items():\n",
    "    print(f\"Курс: {course}, Студенти: {', '.join(enrolled_students)}\")\n",
    "\n",
    "# Виведемо інформацію про студента з кортежу\n",
    "name, age, interests = student_info\n",
    "print(f\"{name} має {age} років і захоплюється: {', '.join(interests)}\")\n",
    "\n",
    "# Виведемо унікальні захоплення\n",
    "print(f\"Унікальні захоплення: {', '.join(hobbies)}\")"
   ]
  }
 ],
 "metadata": {
  "kernelspec": {
   "display_name": "Python 3",
   "language": "python",
   "name": "python3"
  },
  "language_info": {
   "codemirror_mode": {
    "name": "ipython",
    "version": 3
   },
   "file_extension": ".py",
   "mimetype": "text/x-python",
   "name": "python",
   "nbconvert_exporter": "python",
   "pygments_lexer": "ipython3",
   "version": "3.12.5"
  }
 },
 "nbformat": 4,
 "nbformat_minor": 2
}
