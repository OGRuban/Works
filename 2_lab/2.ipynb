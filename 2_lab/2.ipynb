{
 "cells": [
  {
   "cell_type": "markdown",
   "metadata": {},
   "source": [
    "### Типи змінних\n",
    "#### Стічкові змінні\n",
    "- змінна це просто імя (буква або набір букв або цифр) яке містить значення\n",
    "- власне значення це стрічка яка є у ' ', \" \""
   ]
  },
  {
   "cell_type": "code",
   "execution_count": 1,
   "metadata": {},
   "outputs": [],
   "source": [
    "a = \"орест\"\n",
    "b2 = \"18 років\"\n",
    "c_3 = \"м. Львів\"\n",
    "d_ = \"https://github.com/OGRuban\""
   ]
  },
  {
   "cell_type": "code",
   "execution_count": 2,
   "metadata": {},
   "outputs": [
    {
     "name": "stdout",
     "output_type": "stream",
     "text": [
      "орест 18 років м. Львів https://github.com/OGRuban\n"
     ]
    }
   ],
   "source": [
    "print(a, b2, c_3, d_)"
   ]
  },
  {
   "cell_type": "code",
   "execution_count": 3,
   "metadata": {},
   "outputs": [],
   "source": [
    "del d_"
   ]
  },
  {
   "cell_type": "code",
   "execution_count": 4,
   "metadata": {},
   "outputs": [
    {
     "name": "stdout",
     "output_type": "stream",
     "text": [
      "Орест 18 років м. Львів\n"
     ]
    }
   ],
   "source": [
    "print((a.capitalize()), b2, c_3)"
   ]
  },
  {
   "cell_type": "markdown",
   "metadata": {},
   "source": [
    "### Колекції - комплексні типи даних\n",
    "- list - це просто набір різних типів даних, все зібрано докупи\n",
    "- впорядкована колекція - тобто кожен елемент має свою позицію (індекси)\n",
    "- номерація або індекси починаються з 0\n",
    "- у Пайтон також є відємні індекси\n",
    "- списки можуть бути змінними"
   ]
  },
  {
   "cell_type": "code",
   "execution_count": 5,
   "metadata": {},
   "outputs": [],
   "source": [
    "students = [\n",
    "    {'name': 'Orest', 'age': 18, 'major': 'Computer Science'},\n",
    "    {'name': 'Bob', 'age': 22, 'major': 'Mathematics'},\n",
    "    {'name': 'Tommy', 'age': 21, 'major': 'Physics'}\n",
    "]"
   ]
  },
  {
   "cell_type": "markdown",
   "metadata": {},
   "source": [
    "- dict або словники\n",
    "- в словниках всі дані знаходяться на іменних позиціях\n",
    "- особливість словника що ключі або назви позицій мають бути унікальними\n",
    "- словники є mutable - тобто можна змінювати"
   ]
  },
  {
   "cell_type": "code",
   "execution_count": 6,
   "metadata": {},
   "outputs": [],
   "source": [
    "courses = {\n",
    "    'Computer Science': ['Orest', 'Bob'],\n",
    "    'Mathematics': ['Bob', 'Charlie'],\n",
    "    'Physics': ['Orest', 'Charlie']\n",
    "}"
   ]
  },
  {
   "cell_type": "markdown",
   "metadata": {},
   "source": [
    "- tuple - це незмінна колекція після її створення\n",
    "- впорядкована, кожен елемент на своєму місці та початок з 0"
   ]
  },
  {
   "cell_type": "code",
   "execution_count": 7,
   "metadata": {},
   "outputs": [],
   "source": [
    "student_info = ('Orest', 18, ['coding', 'reading', 'hiking'])"
   ]
  },
  {
   "cell_type": "markdown",
   "metadata": {},
   "source": [
    "- set - колекція унікальних елементів\n",
    "- невпорядкована колекція, тобто немає індексів (просто куча даних)"
   ]
  },
  {
   "cell_type": "code",
   "execution_count": 8,
   "metadata": {},
   "outputs": [],
   "source": [
    "hobbies = {'coding', 'reading', 'hiking', 'sports', 'music'}"
   ]
  },
  {
   "cell_type": "code",
   "execution_count": 9,
   "metadata": {},
   "outputs": [
    {
     "name": "stdout",
     "output_type": "stream",
     "text": [
      "Студент: Orest, Вік: 18, Спеціальність: Computer Science\n",
      "Студент: Bob, Вік: 22, Спеціальність: Mathematics\n",
      "Студент: Tommy, Вік: 21, Спеціальність: Physics\n",
      "Курс: Computer Science, Студенти: Orest, Bob\n",
      "Курс: Mathematics, Студенти: Bob, Charlie\n",
      "Курс: Physics, Студенти: Orest, Charlie\n",
      "Orest має 18 років і захоплюється: coding, reading, hiking\n",
      "Унікальні захоплення: sports, reading, coding, hiking, music\n"
     ]
    }
   ],
   "source": [
    "# Виведемо інформацію про студентів\n",
    "for student in students:\n",
    "    print(f\"Студент: {student['name']}, Вік: {student['age']}, Спеціальність: {student['major']}\")\n",
    "\n",
    "# Виведемо курси та студентів\n",
    "for course, enrolled_students in courses.items():\n",
    "    print(f\"Курс: {course}, Студенти: {', '.join(enrolled_students)}\")\n",
    "\n",
    "# Виведемо інформацію про студента з кортежу\n",
    "name, age, interests = student_info\n",
    "print(f\"{name} має {age} років і захоплюється: {', '.join(interests)}\")\n",
    "\n",
    "# Виведемо унікальні захоплення\n",
    "print(f\"Унікальні захоплення: {', '.join(hobbies)}\")"
   ]
  },
  {
   "cell_type": "markdown",
   "metadata": {},
   "source": [
    "### Способи виводу інформації/даних"
   ]
  },
  {
   "cell_type": "code",
   "execution_count": 10,
   "metadata": {},
   "outputs": [
    {
     "name": "stdout",
     "output_type": "stream",
     "text": [
      "Це хочем вивести Додатковий вивід\n",
      "Вивід: 21\n"
     ]
    }
   ],
   "source": [
    "p = \"Це хочем вивести\"\n",
    "p #це буде виведено але через особливості роботи комірок\n",
    "# використовуємо властивості функції print\n",
    "print(p, \"Додатковий вивід\")\n",
    "i = \"3\"\n",
    "print(\"Вивід\" + \": \" + str( 7 * int(i) )) # спочатку порахували вираз і потім його вивели"
   ]
  },
  {
   "cell_type": "code",
   "execution_count": 11,
   "metadata": {},
   "outputs": [
    {
     "name": "stdout",
     "output_type": "stream",
     "text": [
      "Починаємо стрічку\n",
      "Тут буде ВСТАВКА та ще додамо цифру 3\n",
      "3 рівне 3 та не рівне 7\n",
      "Це буде форматована Вставка з числом 2.12\n"
     ]
    }
   ],
   "source": [
    "# використовуємо властивості стрічок\n",
    "fs = \"Починаємо\" + \" \" + \"стрічку\"\n",
    "print(fs)\n",
    "fs = \"Тут буде {} та ще додамо цифру {}\".format(\"ВСТАВКА\", 3) #позиції мають критичну роль\n",
    "print(fs)\n",
    "fs = \"{0} рівне {0} та не рівне {1}\".format(3, 7) # тепер позиції визначаються індексами\n",
    "print(fs)\n",
    "fs = \"Це буде форматована %s з числом %.2f\" % (\"Вставка\", 2.12345)\n",
    "print(fs) \n",
    "# стрічку можна форматувати і всередині прінт без змінної"
   ]
  },
  {
   "cell_type": "markdown",
   "metadata": {},
   "source": [
    "f-стрічки (форматовані рядки) в Python — це зручний спосіб вставки значень змінних або виразів у рядки."
   ]
  },
  {
   "cell_type": "code",
   "execution_count": 12,
   "metadata": {},
   "outputs": [
    {
     "name": "stdout",
     "output_type": "stream",
     "text": [
      "Мене звати Орест і мені 18 років.\n"
     ]
    }
   ],
   "source": [
    "name = \"Орест\"\n",
    "age = 18\n",
    "\n",
    "# Використання f-стрічки\n",
    "print(f\"Мене звати {name} і мені {age} років.\")"
   ]
  },
  {
   "cell_type": "code",
   "execution_count": 13,
   "metadata": {},
   "outputs": [
    {
     "name": "stdout",
     "output_type": "stream",
     "text": [
      "Сума 7 і 3 дорівнює 10.\n"
     ]
    }
   ],
   "source": [
    "x = 7\n",
    "y = 3\n",
    "print(f\"Сума {x} і {y} дорівнює {x + y}.\")"
   ]
  },
  {
   "cell_type": "code",
   "execution_count": 14,
   "metadata": {},
   "outputs": [
    {
     "name": "stdout",
     "output_type": "stream",
     "text": [
      "Pi скорочується до 2 символів після коми: 3.14\n"
     ]
    }
   ],
   "source": [
    "pi = 3.1415926535\n",
    "print(f\"Pi скорочується до 2 символів після коми: {pi:.2f}\")"
   ]
  },
  {
   "cell_type": "code",
   "execution_count": 15,
   "metadata": {},
   "outputs": [
    {
     "name": "stdout",
     "output_type": "stream",
     "text": [
      "Сьогоднішня дата: 04-10-2024\n"
     ]
    }
   ],
   "source": [
    "from datetime import datetime\n",
    "today = datetime.now()\n",
    "print(f\"Сьогоднішня дата: {today:%d-%m-%Y}\")"
   ]
  }
 ],
 "metadata": {
  "kernelspec": {
   "display_name": "Python 3",
   "language": "python",
   "name": "python3"
  },
  "language_info": {
   "codemirror_mode": {
    "name": "ipython",
    "version": 3
   },
   "file_extension": ".py",
   "mimetype": "text/x-python",
   "name": "python",
   "nbconvert_exporter": "python",
   "pygments_lexer": "ipython3",
   "version": "3.12.5"
  }
 },
 "nbformat": 4,
 "nbformat_minor": 2
}
