{
 "cells": [
  {
   "cell_type": "markdown",
   "metadata": {},
   "source": [
    "### Типи змінних\n",
    "#### Стічкові змінні\n",
    "- змінна це просто імя (буква або набір букв або цифр) яке містить значення\n",
    "- власне значення це стрічка яка є у ' ', \" \""
   ]
  },
  {
   "cell_type": "code",
   "execution_count": 1,
   "metadata": {},
   "outputs": [],
   "source": [
    "a = \"орест\"\n",
    "b2 = \"18 років\"\n",
    "c_3 = \"м. Львів\"\n",
    "d_ = \"https://github.com/OGRuban\""
   ]
  },
  {
   "cell_type": "code",
   "execution_count": 2,
   "metadata": {},
   "outputs": [
    {
     "name": "stdout",
     "output_type": "stream",
     "text": [
      "орест 18 років м. Львів https://github.com/OGRuban\n"
     ]
    }
   ],
   "source": [
    "print(a, b2, c_3, d_)"
   ]
  },
  {
   "cell_type": "code",
   "execution_count": 3,
   "metadata": {},
   "outputs": [],
   "source": [
    "del d_"
   ]
  },
  {
   "cell_type": "code",
   "execution_count": 4,
   "metadata": {},
   "outputs": [
    {
     "name": "stdout",
     "output_type": "stream",
     "text": [
      "Орест 18 років м. Львів\n"
     ]
    }
   ],
   "source": [
    "print((a.capitalize()), b2, c_3)"
   ]
  },
  {
   "cell_type": "markdown",
   "metadata": {},
   "source": [
    "### Колекції - комплексні типи даних\n",
    "- list - це просто набір різних типів даних, все зібрано докупи\n",
    "- впорядкована колекція - тобто кожен елемент має свою позицію (індекси)\n",
    "- номерація або індекси починаються з 0\n",
    "- у Пайтон також є відємні індекси\n",
    "- списки можуть бути змінними"
   ]
  },
  {
   "cell_type": "code",
   "execution_count": 5,
   "metadata": {},
   "outputs": [],
   "source": [
    "students = [\n",
    "    {'name': 'Orest', 'age': 18, 'major': 'Computer Science'},\n",
    "    {'name': 'Bob', 'age': 22, 'major': 'Mathematics'},\n",
    "    {'name': 'Tommy', 'age': 21, 'major': 'Physics'}\n",
    "]"
   ]
  },
  {
   "cell_type": "markdown",
   "metadata": {},
   "source": [
    "- dict або словники\n",
    "- в словниках всі дані знаходяться на іменних позиціях\n",
    "- особливість словника що ключі або назви позицій мають бути унікальними\n",
    "- словники є mutable - тобто можна змінювати"
   ]
  },
  {
   "cell_type": "code",
   "execution_count": 6,
   "metadata": {},
   "outputs": [],
   "source": [
    "courses = {\n",
    "    'Computer Science': ['Orest', 'Bob'],\n",
    "    'Mathematics': ['Bob', 'Charlie'],\n",
    "    'Physics': ['Orest', 'Charlie']\n",
    "}"
   ]
  },
  {
   "cell_type": "markdown",
   "metadata": {},
   "source": [
    "- tuple - це незмінна колекція після її створення\n",
    "- впорядкована, кожен елемент на своєму місці та початок з 0"
   ]
  },
  {
   "cell_type": "code",
   "execution_count": 7,
   "metadata": {},
   "outputs": [],
   "source": [
    "student_info = ('Orest', 18, ['coding', 'reading', 'hiking'])"
   ]
  },
  {
   "cell_type": "markdown",
   "metadata": {},
   "source": [
    "- set - колекція унікальних елементів\n",
    "- невпорядкована колекція, тобто немає індексів (просто куча даних)"
   ]
  },
  {
   "cell_type": "code",
   "execution_count": 8,
   "metadata": {},
   "outputs": [],
   "source": [
    "hobbies = {'coding', 'reading', 'hiking', 'sports', 'music'}"
   ]
  },
  {
   "cell_type": "code",
   "execution_count": 9,
   "metadata": {},
   "outputs": [
    {
     "name": "stdout",
     "output_type": "stream",
     "text": [
      "Студент: Orest, Вік: 18, Спеціальність: Computer Science\n",
      "Студент: Bob, Вік: 22, Спеціальність: Mathematics\n",
      "Студент: Tommy, Вік: 21, Спеціальність: Physics\n",
      "Курс: Computer Science, Студенти: Orest, Bob\n",
      "Курс: Mathematics, Студенти: Bob, Charlie\n",
      "Курс: Physics, Студенти: Orest, Charlie\n",
      "Orest має 18 років і захоплюється: coding, reading, hiking\n",
      "Унікальні захоплення: coding, music, hiking, reading, sports\n"
     ]
    }
   ],
   "source": [
    "# Виведемо інформацію про студентів\n",
    "for student in students:\n",
    "    print(f\"Студент: {student['name']}, Вік: {student['age']}, Спеціальність: {student['major']}\")\n",
    "\n",
    "# Виведемо курси та студентів\n",
    "for course, enrolled_students in courses.items():\n",
    "    print(f\"Курс: {course}, Студенти: {', '.join(enrolled_students)}\")\n",
    "\n",
    "# Виведемо інформацію про студента з кортежу\n",
    "name, age, interests = student_info\n",
    "print(f\"{name} має {age} років і захоплюється: {', '.join(interests)}\")\n",
    "\n",
    "# Виведемо унікальні захоплення\n",
    "print(f\"Унікальні захоплення: {', '.join(hobbies)}\")"
   ]
  },
  {
   "cell_type": "markdown",
   "metadata": {},
   "source": [
    "### Способи виводу інформації/даних"
   ]
  },
  {
   "cell_type": "code",
   "execution_count": 10,
   "metadata": {},
   "outputs": [
    {
     "name": "stdout",
     "output_type": "stream",
     "text": [
      "Це хочем вивести Додатковий вивід\n",
      "Вивід: 21\n"
     ]
    }
   ],
   "source": [
    "p = \"Це хочем вивести\"\n",
    "p #це буде виведено але через особливості роботи комірок\n",
    "# використовуємо властивості функції print\n",
    "print(p, \"Додатковий вивід\")\n",
    "i = \"3\"\n",
    "print(\"Вивід\" + \": \" + str( 7 * int(i) )) # спочатку порахували вираз і потім його вивели"
   ]
  },
  {
   "cell_type": "code",
   "execution_count": 11,
   "metadata": {},
   "outputs": [
    {
     "name": "stdout",
     "output_type": "stream",
     "text": [
      "Починаємо стрічку\n",
      "Тут буде ВСТАВКА та ще додамо цифру 3\n",
      "3 рівне 3 та не рівне 7\n",
      "Це буде форматована Вставка з числом 2.12\n"
     ]
    }
   ],
   "source": [
    "# використовуємо властивості стрічок\n",
    "fs = \"Починаємо\" + \" \" + \"стрічку\"\n",
    "print(fs)\n",
    "fs = \"Тут буде {} та ще додамо цифру {}\".format(\"ВСТАВКА\", 3) #позиції мають критичну роль\n",
    "print(fs)\n",
    "fs = \"{0} рівне {0} та не рівне {1}\".format(3, 7) # тепер позиції визначаються індексами\n",
    "print(fs)\n",
    "fs = \"Це буде форматована %s з числом %.2f\" % (\"Вставка\", 2.12345)\n",
    "print(fs) \n",
    "# стрічку можна форматувати і всередині прінт без змінної"
   ]
  },
  {
   "cell_type": "markdown",
   "metadata": {},
   "source": [
    "f-стрічки (форматовані рядки) в Python — це зручний спосіб вставки значень змінних або виразів у рядки."
   ]
  },
  {
   "cell_type": "code",
   "execution_count": 12,
   "metadata": {},
   "outputs": [
    {
     "name": "stdout",
     "output_type": "stream",
     "text": [
      "Мене звати Орест і мені 18 років.\n"
     ]
    }
   ],
   "source": [
    "name = \"Орест\"\n",
    "age = 18\n",
    "\n",
    "# Використання f-стрічки\n",
    "print(f\"Мене звати {name} і мені {age} років.\")"
   ]
  },
  {
   "cell_type": "code",
   "execution_count": 13,
   "metadata": {},
   "outputs": [
    {
     "name": "stdout",
     "output_type": "stream",
     "text": [
      "Сума 7 і 3 дорівнює 10.\n"
     ]
    }
   ],
   "source": [
    "x = 7\n",
    "y = 3\n",
    "print(f\"Сума {x} і {y} дорівнює {x + y}.\")"
   ]
  },
  {
   "cell_type": "code",
   "execution_count": 14,
   "metadata": {},
   "outputs": [
    {
     "name": "stdout",
     "output_type": "stream",
     "text": [
      "Pi скорочується до 2 символів після коми: 3.14\n"
     ]
    }
   ],
   "source": [
    "pi = 3.1415926535\n",
    "print(f\"Pi скорочується до 2 символів після коми: {pi:.2f}\")"
   ]
  },
  {
   "cell_type": "code",
   "execution_count": 15,
   "metadata": {},
   "outputs": [
    {
     "name": "stdout",
     "output_type": "stream",
     "text": [
      "Сьогоднішня дата: 09-10-2024\n"
     ]
    }
   ],
   "source": [
    "from datetime import datetime\n",
    "today = datetime.now()\n",
    "print(f\"Сьогоднішня дата: {today:%d-%m-%Y}\")"
   ]
  },
  {
   "cell_type": "markdown",
   "metadata": {},
   "source": [
    "### Константи та вбудовані функції\n",
    "- ми не можемо перевизнаити константу або ми може перевизначити вбудовану функцію (не рекомендується)"
   ]
  },
  {
   "cell_type": "code",
   "execution_count": 16,
   "metadata": {},
   "outputs": [
    {
     "name": "stdout",
     "output_type": "stream",
     "text": [
      "Чому це не є рівним False ?\n"
     ]
    }
   ],
   "source": [
    "# False = 1 # це неможна, буде помилка\n",
    "false = True\n",
    "print(\"Чому це не є рівним\", false == False, \"?\")"
   ]
  },
  {
   "cell_type": "code",
   "execution_count": 17,
   "metadata": {},
   "outputs": [
    {
     "name": "stdout",
     "output_type": "stream",
     "text": [
      "Хочу вивести!\n"
     ]
    }
   ],
   "source": [
    "#це  закоментований код нам поломає прінт\n",
    "# якщо його виконали перевантажте Пайтон ядро\n",
    "\n",
    "#def print(*arg, **args):\n",
    "#    return \"Ми поломались!\"\n",
    "\n",
    "print(\"Хочу вивести!\")"
   ]
  },
  {
   "cell_type": "code",
   "execution_count": 18,
   "metadata": {},
   "outputs": [
    {
     "name": "stdout",
     "output_type": "stream",
     "text": [
      "3.141592653589793\n"
     ]
    }
   ],
   "source": [
    "from math import pi\n",
    "print(pi) # це константа бібліотеки математики"
   ]
  },
  {
   "cell_type": "markdown",
   "metadata": {},
   "source": [
    "- особливою константою є None - вказує на відсутність значення"
   ]
  },
  {
   "cell_type": "code",
   "execution_count": 19,
   "metadata": {},
   "outputs": [
    {
     "name": "stdout",
     "output_type": "stream",
     "text": [
      "Вивід\n",
      "None\n",
      "None\n"
     ]
    }
   ],
   "source": [
    "a = print(\"Вивід\")\n",
    "print(a)\n",
    "\n",
    "def my_fun():\n",
    "    return\n",
    "\n",
    "print(my_fun())"
   ]
  },
  {
   "cell_type": "code",
   "execution_count": 20,
   "metadata": {},
   "outputs": [
    {
     "name": "stdout",
     "output_type": "stream",
     "text": [
      ",\n",
      "44\n",
      "b\n",
      "1.13 6.12545\n"
     ]
    },
    {
     "data": {
      "text/plain": [
       "False"
      ]
     },
     "execution_count": 20,
     "metadata": {},
     "output_type": "execute_result"
    }
   ],
   "source": [
    "print(chr(44))\n",
    "print(ord(\",\"))\n",
    "\n",
    "s = \"abcd\"\n",
    "print(s[1])\n",
    "\n",
    "a = 1.12545\n",
    "print(round(a, 2), sum([a, round(a), len(s)]))\n",
    "\n",
    "a = [1, 4, 5, None]\n",
    "all(a)"
   ]
  },
  {
   "cell_type": "markdown",
   "metadata": {},
   "source": [
    "### Починаємо вивчати цикли\n",
    "- for - ітераційний цикл - коли ми маємо задане число ементів та виконуємо над ними операції\n",
    "- while - умовний цикл - виконання операції поки умова є істинною\n",
    "- задача для вивчення циклів - є кубик, нам потрібно кинувши його з 3 спроб щоб нам випало 4\n",
    "#### Є дві функції які дозволяють нам керувати виконанням циклів:\n",
    "- continue - дозволяє оминути одну з ітерацій циклу та перейти на початок виконання циклу\n",
    "- break - викидує з циклю завершуючи його роботу"
   ]
  },
  {
   "cell_type": "code",
   "execution_count": 21,
   "metadata": {},
   "outputs": [
    {
     "name": "stdout",
     "output_type": "stream",
     "text": [
      "Яблуко\n",
      "Банан\n",
      "Груша\n"
     ]
    }
   ],
   "source": [
    "# Проходимо по елементах списку\n",
    "fruits = [\"Яблуко\", \"Банан\", \"Груша\"]\n",
    "for fruit in fruits:\n",
    "    print(fruit)"
   ]
  },
  {
   "cell_type": "code",
   "execution_count": 22,
   "metadata": {},
   "outputs": [
    {
     "name": "stdout",
     "output_type": "stream",
     "text": [
      "0\n",
      "1\n",
      "2\n",
      "3\n",
      "4\n"
     ]
    }
   ],
   "source": [
    "# Для ітерації через діапазон чисел можна використовувати вбудовану функцію range(), яка генерує послідовність чисел.\n",
    "for i in range(5):\n",
    "    print(i)"
   ]
  },
  {
   "cell_type": "code",
   "execution_count": 23,
   "metadata": {},
   "outputs": [
    {
     "name": "stdout",
     "output_type": "stream",
     "text": [
      "1\n",
      "3\n",
      "5\n",
      "7\n",
      "9\n"
     ]
    }
   ],
   "source": [
    "#Функція range(start, stop, step) дозволяє вказати початкове значення, кінцеве і крок між числами:\n",
    "for i in range(1, 10, 2):\n",
    "    print(i)"
   ]
  },
  {
   "cell_type": "code",
   "execution_count": 24,
   "metadata": {},
   "outputs": [
    {
     "name": "stdout",
     "output_type": "stream",
     "text": [
      "Чорний\n",
      "Жовтий\n",
      "Оранджевий\n"
     ]
    }
   ],
   "source": [
    "# Ітеруємо список у зворотному порядку\n",
    "colors = [\"Оранджевий\", \"Жовтий\", \"Чорний\"]\n",
    "for color in reversed(colors):\n",
    "    print(color)"
   ]
  },
  {
   "cell_type": "code",
   "execution_count": 25,
   "metadata": {},
   "outputs": [
    {
     "name": "stdout",
     "output_type": "stream",
     "text": [
      "0\n",
      "1\n",
      "2\n",
      "3\n",
      "4\n",
      "5\n",
      "6\n"
     ]
    }
   ],
   "source": [
    "i = 0\n",
    "while i < 7:\n",
    "    print(i)\n",
    "    i += 1  # збільшуємо i на 1 в кожній ітерації"
   ]
  },
  {
   "cell_type": "code",
   "execution_count": 26,
   "metadata": {},
   "outputs": [
    {
     "name": "stdout",
     "output_type": "stream",
     "text": [
      "2\n",
      "4\n",
      "6\n",
      "8\n",
      "10\n"
     ]
    }
   ],
   "source": [
    "# Виведемо числа від 1 до 10, але пропустимо непарні\n",
    "i = 1\n",
    "while i <= 10:\n",
    "    if i % 2 != 0:\n",
    "        i += 1\n",
    "        continue  # пропускаємо непарні числа\n",
    "    print(i)\n",
    "    i += 1"
   ]
  },
  {
   "cell_type": "code",
   "execution_count": 27,
   "metadata": {},
   "outputs": [
    {
     "name": "stdout",
     "output_type": "stream",
     "text": [
      "Факторіал 7 дорівнює 5040\n"
     ]
    }
   ],
   "source": [
    "# Обчислюємо факторіал числа\n",
    "n = 7\n",
    "factorial = 1\n",
    "i = 1\n",
    "while i <= n:\n",
    "    factorial *= i\n",
    "    i += 1\n",
    "\n",
    "print(f\"Факторіал {n} дорівнює {factorial}\")"
   ]
  },
  {
   "cell_type": "code",
   "execution_count": 28,
   "metadata": {},
   "outputs": [
    {
     "name": "stdout",
     "output_type": "stream",
     "text": [
      "Ви ввели: 18\n"
     ]
    }
   ],
   "source": [
    "while True:\n",
    "    user_input = input(\"Введіть число більше за 10: \")\n",
    "    if user_input.isdigit() and int(user_input) > 10:\n",
    "        print(f\"Ви ввели: {user_input}\")\n",
    "        break  # вийдемо з циклу, якщо число більше 10\n",
    "    else:\n",
    "        print(\"Невірне число. Спробуйте ще раз.\")"
   ]
  },
  {
   "cell_type": "code",
   "execution_count": 29,
   "metadata": {},
   "outputs": [
    {
     "name": "stdout",
     "output_type": "stream",
     "text": [
      "Невірний пароль. Спробуйте ще раз.\n",
      "Невірний пароль. Спробуйте ще раз.\n",
      "Пароль вірний!\n"
     ]
    }
   ],
   "source": [
    "# Запитуємо у користувача пароль, поки він не введе правильний\n",
    "correct_password = \"1234\"\n",
    "while True:\n",
    "    password = input(\"Введіть пароль: \")\n",
    "    if password == correct_password:\n",
    "        print(\"Пароль вірний!\")\n",
    "        break  # вихід з циклу\n",
    "    else:\n",
    "        print(\"Невірний пароль. Спробуйте ще раз.\")"
   ]
  },
  {
   "cell_type": "markdown",
   "metadata": {},
   "source": [
    "### Основні відмінності між for і while:\n",
    "1. Типи ітерацій:\n",
    "- for використовується для ітерації через послідовності (списки, кортежі, діапазони тощо), або коли кількість ітерацій відома заздалегідь.\n",
    "- while використовується, коли необхідно виконувати блок коду до тих пір, поки виконується певна умова.\n",
    "\n",
    "2. Умови зупинки:\n",
    "- У циклі for кількість ітерацій визначена наперед, або за допомогою послідовності, або за допомогою діапазону.\n",
    "- У циклі while цикл продовжуватиметься, поки умова залишається істинною. Якщо умова ніколи не зміниться на хибну, цикл може стати безкінечним.\n"
   ]
  },
  {
   "cell_type": "code",
   "execution_count": 30,
   "metadata": {},
   "outputs": [
    {
     "name": "stdout",
     "output_type": "stream",
     "text": [
      "0\n",
      "1\n",
      "2\n",
      "3\n",
      "4\n"
     ]
    }
   ],
   "source": [
    "for i in range(10):\n",
    "    if i == 5:\n",
    "        break  # зупиняє цикл, коли i = 5\n",
    "    print(i)"
   ]
  },
  {
   "cell_type": "code",
   "execution_count": 31,
   "metadata": {},
   "outputs": [
    {
     "name": "stdout",
     "output_type": "stream",
     "text": [
      "0\n",
      "1\n",
      "3\n",
      "4\n"
     ]
    }
   ],
   "source": [
    "for i in range(5):\n",
    "    if i == 2:\n",
    "        continue  # пропускає ітерацію, коли i = 2\n",
    "    print(i)"
   ]
  },
  {
   "cell_type": "markdown",
   "metadata": {},
   "source": [
    "- ми купили пачку M&Ms і починаємо їх їсти\n",
    "- в кожній пачці 30 ММдемсок але різних кольорів, випадкових\n",
    "- їмо за допомогою двох циклів\n",
    "- !важливо - все є істинною крім False або 0 або None"
   ]
  },
  {
   "cell_type": "code",
   "execution_count": 32,
   "metadata": {},
   "outputs": [
    {
     "name": "stdout",
     "output_type": "stream",
     "text": [
      "Ми зїли Червоний M&Ms\n",
      "Ми зїли Жовтий M&Ms\n",
      "Ми зїли Зелений M&Ms\n",
      "Ми зїли Синій M&Ms\n",
      "Ми зїли Коричневий M&Ms\n",
      "Ми зїли Оранджевий M&Ms\n",
      "Ми зїли Червоний M&Ms\n",
      "Ми зїли Жовтий M&Ms\n",
      "Ми зїли Зелений M&Ms\n",
      "Ми зїли Синій M&Ms\n",
      "Ми зїли Коричневий M&Ms\n",
      "Ми зїли Оранджевий M&Ms\n",
      "Ми зїли Червоний M&Ms\n",
      "Ми зїли Жовтий M&Ms\n",
      "Ми зїли Зелений M&Ms\n",
      "Ми зїли Синій M&Ms\n",
      "Ми зїли Коричневий M&Ms\n",
      "Ми зїли Оранджевий M&Ms\n",
      "Ми зїли Червоний M&Ms\n",
      "Ми зїли Жовтий M&Ms\n",
      "Ми зїли Зелений M&Ms\n",
      "Ми зїли Синій M&Ms\n",
      "Ми зїли Коричневий M&Ms\n",
      "Ми зїли Оранджевий M&Ms\n",
      "Ми зїли Червоний M&Ms\n",
      "Ми зїли Жовтий M&Ms\n",
      "Ми зїли Зелений M&Ms\n",
      "Ми зїли Синій M&Ms\n",
      "Ми зїли Коричневий M&Ms\n",
      "Ми зїли Оранджевий M&Ms\n"
     ]
    }
   ],
   "source": [
    "mmd = [\"Червоний\", \"Жовтий\", \"Зелений\", \"Синій\", \"Коричневий\", \"Оранджевий\"]\n",
    "factory = mmd * 100\n",
    "\n",
    "pack = factory[0:30]\n",
    "for m in pack:\n",
    "    print(f\"Ми зїли {m} M&Ms\")"
   ]
  },
  {
   "cell_type": "code",
   "execution_count": 33,
   "metadata": {},
   "outputs": [
    {
     "name": "stdout",
     "output_type": "stream",
     "text": [
      "Ми зїли Оранджевий M&Ms\n",
      "Ми зїли Коричневий M&Ms\n",
      "Ми зїли Синій M&Ms\n",
      "Ми зїли Зелений M&Ms\n",
      "Ми зїли Жовтий M&Ms\n",
      "Ми зїли Червоний M&Ms\n",
      "Ми зїли Оранджевий M&Ms\n",
      "Ми зїли Коричневий M&Ms\n",
      "Ми зїли Синій M&Ms\n",
      "Ми зїли Зелений M&Ms\n",
      "Ми зїли Жовтий M&Ms\n",
      "Ми зїли Червоний M&Ms\n",
      "Ми зїли Оранджевий M&Ms\n",
      "Ми зїли Коричневий M&Ms\n",
      "Ми зїли Синій M&Ms\n",
      "Ми зїли Зелений M&Ms\n",
      "Ми зїли Жовтий M&Ms\n",
      "Ми зїли Червоний M&Ms\n",
      "Ми зїли Оранджевий M&Ms\n",
      "Ми зїли Коричневий M&Ms\n",
      "Ми зїли Синій M&Ms\n",
      "Ми зїли Зелений M&Ms\n",
      "Ми зїли Жовтий M&Ms\n",
      "Ми зїли Червоний M&Ms\n",
      "Ми зїли Оранджевий M&Ms\n",
      "Ми зїли Коричневий M&Ms\n",
      "Ми зїли Синій M&Ms\n",
      "Ми зїли Зелений M&Ms\n",
      "Ми зїли Жовтий M&Ms\n",
      "Ми зїли Червоний M&Ms\n"
     ]
    }
   ],
   "source": [
    "pack = factory[0:30]\n",
    "while pack:\n",
    "    print(f\"Ми зїли {pack.pop(-1)} M&Ms\")"
   ]
  }
 ],
 "metadata": {
  "kernelspec": {
   "display_name": "Python 3",
   "language": "python",
   "name": "python3"
  },
  "language_info": {
   "codemirror_mode": {
    "name": "ipython",
    "version": 3
   },
   "file_extension": ".py",
   "mimetype": "text/x-python",
   "name": "python",
   "nbconvert_exporter": "python",
   "pygments_lexer": "ipython3",
   "version": "3.12.5"
  }
 },
 "nbformat": 4,
 "nbformat_minor": 2
}
